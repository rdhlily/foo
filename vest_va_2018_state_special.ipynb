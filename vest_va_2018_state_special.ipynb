{
 "cells": [
  {
   "cell_type": "code",
   "execution_count": 2,
   "metadata": {},
   "outputs": [],
   "source": [
    "import pandas as pd\n",
    "import geopandas as gpd\n",
    "import matplotlib.pyplot as plt\n",
    "import maup\n",
    "from zipfile import ZipFile\n",
    "import numpy as np\n",
    "import os\n",
    "import shutil"
   ]
  },
  {
   "cell_type": "markdown",
   "metadata": {},
   "source": [
    "# State House Special Election"
   ]
  },
  {
   "cell_type": "code",
   "execution_count": 3,
   "metadata": {},
   "outputs": [
    {
     "data": {
      "text/plain": [
       "'/Users/lilyfalk/sandbox/pdv-va/vest_va'"
      ]
     },
     "execution_count": 3,
     "metadata": {},
     "output_type": "execute_result"
    }
   ],
   "source": [
    "pwd"
   ]
  },
  {
   "cell_type": "code",
   "execution_count": 4,
   "metadata": {},
   "outputs": [],
   "source": [
    "final = gpd.read_file('./va_2018_statehouse_special/va_2018_statehouse_special.shp')"
   ]
  },
  {
   "cell_type": "code",
   "execution_count": 5,
   "metadata": {},
   "outputs": [
    {
     "data": {
      "text/html": [
       "<div>\n",
       "<style scoped>\n",
       "    .dataframe tbody tr th:only-of-type {\n",
       "        vertical-align: middle;\n",
       "    }\n",
       "\n",
       "    .dataframe tbody tr th {\n",
       "        vertical-align: top;\n",
       "    }\n",
       "\n",
       "    .dataframe thead th {\n",
       "        text-align: right;\n",
       "    }\n",
       "</style>\n",
       "<table border=\"1\" class=\"dataframe\">\n",
       "  <thead>\n",
       "    <tr style=\"text-align: right;\">\n",
       "      <th></th>\n",
       "      <th>COUNTYFP</th>\n",
       "      <th>LOCALITY</th>\n",
       "      <th>VTDST</th>\n",
       "      <th>PRECINCT</th>\n",
       "      <th>HOD_DIST</th>\n",
       "      <th>S18HODDEM</th>\n",
       "      <th>S18HODREP</th>\n",
       "      <th>S18HODWRI</th>\n",
       "      <th>geometry</th>\n",
       "    </tr>\n",
       "  </thead>\n",
       "  <tbody>\n",
       "    <tr>\n",
       "      <th>0</th>\n",
       "      <td>009</td>\n",
       "      <td>Amherst County</td>\n",
       "      <td>000102</td>\n",
       "      <td>New Glasgow</td>\n",
       "      <td>024</td>\n",
       "      <td>117</td>\n",
       "      <td>168</td>\n",
       "      <td>2</td>\n",
       "      <td>POLYGON Z ((-79.04809 37.53463 0.00000, -79.04...</td>\n",
       "    </tr>\n",
       "    <tr>\n",
       "      <th>1</th>\n",
       "      <td>009</td>\n",
       "      <td>Amherst County</td>\n",
       "      <td>000103</td>\n",
       "      <td>Coolwell</td>\n",
       "      <td>024</td>\n",
       "      <td>21</td>\n",
       "      <td>84</td>\n",
       "      <td>1</td>\n",
       "      <td>POLYGON Z ((-79.08422 37.51334 0.00000, -79.08...</td>\n",
       "    </tr>\n",
       "    <tr>\n",
       "      <th>2</th>\n",
       "      <td>009</td>\n",
       "      <td>Amherst County</td>\n",
       "      <td>000201</td>\n",
       "      <td>Court House</td>\n",
       "      <td>024</td>\n",
       "      <td>270</td>\n",
       "      <td>408</td>\n",
       "      <td>14</td>\n",
       "      <td>POLYGON Z ((-79.15210 37.57883 0.00000, -79.15...</td>\n",
       "    </tr>\n",
       "    <tr>\n",
       "      <th>3</th>\n",
       "      <td>009</td>\n",
       "      <td>Amherst County</td>\n",
       "      <td>000202</td>\n",
       "      <td>Temperance</td>\n",
       "      <td>024</td>\n",
       "      <td>61</td>\n",
       "      <td>140</td>\n",
       "      <td>3</td>\n",
       "      <td>POLYGON Z ((-79.30301 37.74092 0.00000, -79.30...</td>\n",
       "    </tr>\n",
       "    <tr>\n",
       "      <th>4</th>\n",
       "      <td>009</td>\n",
       "      <td>Amherst County</td>\n",
       "      <td>000301</td>\n",
       "      <td>Monroe</td>\n",
       "      <td>024</td>\n",
       "      <td>68</td>\n",
       "      <td>163</td>\n",
       "      <td>5</td>\n",
       "      <td>POLYGON Z ((-79.19354 37.57677 0.00000, -79.19...</td>\n",
       "    </tr>\n",
       "    <tr>\n",
       "      <th>...</th>\n",
       "      <td>...</td>\n",
       "      <td>...</td>\n",
       "      <td>...</td>\n",
       "      <td>...</td>\n",
       "      <td>...</td>\n",
       "      <td>...</td>\n",
       "      <td>...</td>\n",
       "      <td>...</td>\n",
       "      <td>...</td>\n",
       "    </tr>\n",
       "    <tr>\n",
       "      <th>74</th>\n",
       "      <td>161</td>\n",
       "      <td>Roanoke County</td>\n",
       "      <td>000108</td>\n",
       "      <td>WILDWOOD</td>\n",
       "      <td>008</td>\n",
       "      <td>335</td>\n",
       "      <td>664</td>\n",
       "      <td>3</td>\n",
       "      <td>POLYGON Z ((-80.08046 37.32419 0.00000, -80.08...</td>\n",
       "    </tr>\n",
       "    <tr>\n",
       "      <th>75</th>\n",
       "      <td>161</td>\n",
       "      <td>Roanoke County</td>\n",
       "      <td>000106</td>\n",
       "      <td>GREEN HILL</td>\n",
       "      <td>008</td>\n",
       "      <td>643</td>\n",
       "      <td>1271</td>\n",
       "      <td>3</td>\n",
       "      <td>POLYGON Z ((-80.08835 37.28149 0.00000, -80.08...</td>\n",
       "    </tr>\n",
       "    <tr>\n",
       "      <th>76</th>\n",
       "      <td>161</td>\n",
       "      <td>Roanoke County</td>\n",
       "      <td>000103</td>\n",
       "      <td>GLENVAR</td>\n",
       "      <td>008</td>\n",
       "      <td>374</td>\n",
       "      <td>835</td>\n",
       "      <td>2</td>\n",
       "      <td>POLYGON Z ((-80.21886 37.26382 0.00000, -80.21...</td>\n",
       "    </tr>\n",
       "    <tr>\n",
       "      <th>77</th>\n",
       "      <td>121</td>\n",
       "      <td>Montgomery County</td>\n",
       "      <td>000304</td>\n",
       "      <td>Precinct C-4</td>\n",
       "      <td>008</td>\n",
       "      <td>599</td>\n",
       "      <td>810</td>\n",
       "      <td>3</td>\n",
       "      <td>POLYGON Z ((-80.30263 37.16025 0.00000, -80.30...</td>\n",
       "    </tr>\n",
       "    <tr>\n",
       "      <th>78</th>\n",
       "      <td>015</td>\n",
       "      <td>Augusta County</td>\n",
       "      <td>000602</td>\n",
       "      <td>Ridgeview</td>\n",
       "      <td>024</td>\n",
       "      <td>162</td>\n",
       "      <td>443</td>\n",
       "      <td>0</td>\n",
       "      <td>POLYGON Z ((-79.04959 38.01807 0.00000, -79.04...</td>\n",
       "    </tr>\n",
       "  </tbody>\n",
       "</table>\n",
       "<p>79 rows × 9 columns</p>\n",
       "</div>"
      ],
      "text/plain": [
       "   COUNTYFP           LOCALITY   VTDST      PRECINCT HOD_DIST  S18HODDEM  \\\n",
       "0       009     Amherst County  000102   New Glasgow      024        117   \n",
       "1       009     Amherst County  000103      Coolwell      024         21   \n",
       "2       009     Amherst County  000201   Court House      024        270   \n",
       "3       009     Amherst County  000202    Temperance      024         61   \n",
       "4       009     Amherst County  000301        Monroe      024         68   \n",
       "..      ...                ...     ...           ...      ...        ...   \n",
       "74      161     Roanoke County  000108      WILDWOOD      008        335   \n",
       "75      161     Roanoke County  000106    GREEN HILL      008        643   \n",
       "76      161     Roanoke County  000103       GLENVAR      008        374   \n",
       "77      121  Montgomery County  000304  Precinct C-4      008        599   \n",
       "78      015     Augusta County  000602     Ridgeview      024        162   \n",
       "\n",
       "    S18HODREP  S18HODWRI                                           geometry  \n",
       "0         168          2  POLYGON Z ((-79.04809 37.53463 0.00000, -79.04...  \n",
       "1          84          1  POLYGON Z ((-79.08422 37.51334 0.00000, -79.08...  \n",
       "2         408         14  POLYGON Z ((-79.15210 37.57883 0.00000, -79.15...  \n",
       "3         140          3  POLYGON Z ((-79.30301 37.74092 0.00000, -79.30...  \n",
       "4         163          5  POLYGON Z ((-79.19354 37.57677 0.00000, -79.19...  \n",
       "..        ...        ...                                                ...  \n",
       "74        664          3  POLYGON Z ((-80.08046 37.32419 0.00000, -80.08...  \n",
       "75       1271          3  POLYGON Z ((-80.08835 37.28149 0.00000, -80.08...  \n",
       "76        835          2  POLYGON Z ((-80.21886 37.26382 0.00000, -80.21...  \n",
       "77        810          3  POLYGON Z ((-80.30263 37.16025 0.00000, -80.30...  \n",
       "78        443          0  POLYGON Z ((-79.04959 38.01807 0.00000, -79.04...  \n",
       "\n",
       "[79 rows x 9 columns]"
      ]
     },
     "execution_count": 5,
     "metadata": {},
     "output_type": "execute_result"
    }
   ],
   "source": [
    "final"
   ]
  },
  {
   "cell_type": "code",
   "execution_count": 36,
   "metadata": {},
   "outputs": [],
   "source": [
    "county_dict = pd.Series(final['COUNTYFP'].values, index = final['LOCALITY']).to_dict()"
   ]
  },
  {
   "cell_type": "markdown",
   "metadata": {},
   "source": [
    "## Election results"
   ]
  },
  {
   "cell_type": "markdown",
   "metadata": {},
   "source": [
    "### District 8"
   ]
  },
  {
   "cell_type": "code",
   "execution_count": 288,
   "metadata": {},
   "outputs": [],
   "source": [
    "df8 = pd.read_csv('./Virginia_Elections_Database__2018_House_of_Delegates_General_Election_District_8_including_precincts.csv')"
   ]
  },
  {
   "cell_type": "code",
   "execution_count": 289,
   "metadata": {},
   "outputs": [
    {
     "data": {
      "text/html": [
       "<div>\n",
       "<style scoped>\n",
       "    .dataframe tbody tr th:only-of-type {\n",
       "        vertical-align: middle;\n",
       "    }\n",
       "\n",
       "    .dataframe tbody tr th {\n",
       "        vertical-align: top;\n",
       "    }\n",
       "\n",
       "    .dataframe thead th {\n",
       "        text-align: right;\n",
       "    }\n",
       "</style>\n",
       "<table border=\"1\" class=\"dataframe\">\n",
       "  <thead>\n",
       "    <tr style=\"text-align: right;\">\n",
       "      <th></th>\n",
       "      <th>County/City</th>\n",
       "      <th>Ward</th>\n",
       "      <th>Pct</th>\n",
       "      <th>Joseph P. McNamara</th>\n",
       "      <th>Edward Carter Turner, III</th>\n",
       "      <th>All Others</th>\n",
       "      <th>Total Votes Cast</th>\n",
       "    </tr>\n",
       "  </thead>\n",
       "  <tbody>\n",
       "    <tr>\n",
       "      <th>0</th>\n",
       "      <td>NaN</td>\n",
       "      <td>NaN</td>\n",
       "      <td>NaN</td>\n",
       "      <td>Republican</td>\n",
       "      <td>Democratic</td>\n",
       "      <td>NaN</td>\n",
       "      <td>NaN</td>\n",
       "    </tr>\n",
       "    <tr>\n",
       "      <th>1</th>\n",
       "      <td>Craig County</td>\n",
       "      <td>-</td>\n",
       "      <td>101 - Court House</td>\n",
       "      <td>300</td>\n",
       "      <td>80</td>\n",
       "      <td>1.0</td>\n",
       "      <td>381</td>\n",
       "    </tr>\n",
       "    <tr>\n",
       "      <th>2</th>\n",
       "      <td>Craig County</td>\n",
       "      <td>-</td>\n",
       "      <td>201 - Ammendale Precinct</td>\n",
       "      <td>402</td>\n",
       "      <td>90</td>\n",
       "      <td>0.0</td>\n",
       "      <td>492</td>\n",
       "    </tr>\n",
       "    <tr>\n",
       "      <th>3</th>\n",
       "      <td>Craig County</td>\n",
       "      <td>-</td>\n",
       "      <td>301 - Givens &amp; Reynolds Store</td>\n",
       "      <td>188</td>\n",
       "      <td>92</td>\n",
       "      <td>0.0</td>\n",
       "      <td>280</td>\n",
       "    </tr>\n",
       "    <tr>\n",
       "      <th>4</th>\n",
       "      <td>Craig County</td>\n",
       "      <td>-</td>\n",
       "      <td>303 - Marshalls Store</td>\n",
       "      <td>160</td>\n",
       "      <td>77</td>\n",
       "      <td>0.0</td>\n",
       "      <td>237</td>\n",
       "    </tr>\n",
       "  </tbody>\n",
       "</table>\n",
       "</div>"
      ],
      "text/plain": [
       "    County/City Ward                            Pct Joseph P. McNamara  \\\n",
       "0           NaN  NaN                            NaN         Republican   \n",
       "1  Craig County    -              101 - Court House                300   \n",
       "2  Craig County    -       201 - Ammendale Precinct                402   \n",
       "3  Craig County    -  301 - Givens & Reynolds Store                188   \n",
       "4  Craig County    -          303 - Marshalls Store                160   \n",
       "\n",
       "  Edward Carter Turner, III  All Others Total Votes Cast  \n",
       "0                Democratic         NaN              NaN  \n",
       "1                        80         1.0              381  \n",
       "2                        90         0.0              492  \n",
       "3                        92         0.0              280  \n",
       "4                        77         0.0              237  "
      ]
     },
     "execution_count": 289,
     "metadata": {},
     "output_type": "execute_result"
    }
   ],
   "source": [
    "df8.head()"
   ]
  },
  {
   "cell_type": "code",
   "execution_count": 290,
   "metadata": {},
   "outputs": [
    {
     "data": {
      "text/plain": [
       "5"
      ]
     },
     "execution_count": 290,
     "metadata": {},
     "output_type": "execute_result"
    }
   ],
   "source": [
    "df8['County/City'].nunique()"
   ]
  },
  {
   "cell_type": "code",
   "execution_count": 291,
   "metadata": {},
   "outputs": [
    {
     "data": {
      "text/plain": [
       "(46, 7)"
      ]
     },
     "execution_count": 291,
     "metadata": {},
     "output_type": "execute_result"
    }
   ],
   "source": [
    "df8.shape"
   ]
  },
  {
   "cell_type": "code",
   "execution_count": 292,
   "metadata": {},
   "outputs": [],
   "source": [
    "df8 = df8.iloc[1:]"
   ]
  },
  {
   "cell_type": "code",
   "execution_count": 293,
   "metadata": {},
   "outputs": [],
   "source": [
    "df8 = df8.drop(['Ward'], axis = 1)"
   ]
  },
  {
   "cell_type": "code",
   "execution_count": 294,
   "metadata": {},
   "outputs": [],
   "source": [
    "df8['HOD_DIST'] = '8'"
   ]
  },
  {
   "cell_type": "code",
   "execution_count": 295,
   "metadata": {},
   "outputs": [],
   "source": [
    "#dont actually need this since function rename didnt work\n",
    "column_dict = {'County/City': 'LOCALITY', 'Joseph P. McNamara': 'S18HODREP', 'Edward Carter Turner, III': 'S18HODDEM',\n",
    "              'All Others': 'S18HODWRI',\n",
    "              'Ronnie Ray Campbell': 'S18HODREP', 'Christian Renau Worth': 'S18HODDEM'}"
   ]
  },
  {
   "cell_type": "code",
   "execution_count": 296,
   "metadata": {},
   "outputs": [],
   "source": [
    "df8['LOCALITY'] = df8['County/City'].rename(column_dict.get('County/City'))\n",
    "df8['S18HODREP'] = df8['Joseph P. McNamara']\n",
    "df8['S18HODDEM'] = df8['Edward Carter Turner, III']\n",
    "df8['S18HODWRI'] = df8['All Others']\n",
    "df8 = df8.drop(['County/City', 'Joseph P. McNamara', 'Edward Carter Turner, III', 'All Others'], axis = 1)"
   ]
  },
  {
   "cell_type": "code",
   "execution_count": 302,
   "metadata": {},
   "outputs": [
    {
     "data": {
      "text/html": [
       "<div>\n",
       "<style scoped>\n",
       "    .dataframe tbody tr th:only-of-type {\n",
       "        vertical-align: middle;\n",
       "    }\n",
       "\n",
       "    .dataframe tbody tr th {\n",
       "        vertical-align: top;\n",
       "    }\n",
       "\n",
       "    .dataframe thead th {\n",
       "        text-align: right;\n",
       "    }\n",
       "</style>\n",
       "<table border=\"1\" class=\"dataframe\">\n",
       "  <thead>\n",
       "    <tr style=\"text-align: right;\">\n",
       "      <th></th>\n",
       "      <th>Pct</th>\n",
       "      <th>Total Votes Cast</th>\n",
       "      <th>HOD_DIST</th>\n",
       "      <th>LOCALITY</th>\n",
       "      <th>S18HODREP</th>\n",
       "      <th>S18HODDEM</th>\n",
       "      <th>S18HODWRI</th>\n",
       "    </tr>\n",
       "  </thead>\n",
       "  <tbody>\n",
       "    <tr>\n",
       "      <th>1</th>\n",
       "      <td>101 - Court House</td>\n",
       "      <td>381</td>\n",
       "      <td>8</td>\n",
       "      <td>Craig County</td>\n",
       "      <td>300</td>\n",
       "      <td>80</td>\n",
       "      <td>1.0</td>\n",
       "    </tr>\n",
       "    <tr>\n",
       "      <th>2</th>\n",
       "      <td>201 - Ammendale Precinct</td>\n",
       "      <td>492</td>\n",
       "      <td>8</td>\n",
       "      <td>Craig County</td>\n",
       "      <td>402</td>\n",
       "      <td>90</td>\n",
       "      <td>0.0</td>\n",
       "    </tr>\n",
       "    <tr>\n",
       "      <th>3</th>\n",
       "      <td>301 - Givens &amp; Reynolds Store</td>\n",
       "      <td>280</td>\n",
       "      <td>8</td>\n",
       "      <td>Craig County</td>\n",
       "      <td>188</td>\n",
       "      <td>92</td>\n",
       "      <td>0.0</td>\n",
       "    </tr>\n",
       "    <tr>\n",
       "      <th>4</th>\n",
       "      <td>303 - Marshalls Store</td>\n",
       "      <td>237</td>\n",
       "      <td>8</td>\n",
       "      <td>Craig County</td>\n",
       "      <td>160</td>\n",
       "      <td>77</td>\n",
       "      <td>0.0</td>\n",
       "    </tr>\n",
       "    <tr>\n",
       "      <th>5</th>\n",
       "      <td>401 - Barbours Creek</td>\n",
       "      <td>198</td>\n",
       "      <td>8</td>\n",
       "      <td>Craig County</td>\n",
       "      <td>149</td>\n",
       "      <td>49</td>\n",
       "      <td>0.0</td>\n",
       "    </tr>\n",
       "  </tbody>\n",
       "</table>\n",
       "</div>"
      ],
      "text/plain": [
       "                             Pct Total Votes Cast HOD_DIST      LOCALITY  \\\n",
       "1              101 - Court House              381        8  Craig County   \n",
       "2       201 - Ammendale Precinct              492        8  Craig County   \n",
       "3  301 - Givens & Reynolds Store              280        8  Craig County   \n",
       "4          303 - Marshalls Store              237        8  Craig County   \n",
       "5           401 - Barbours Creek              198        8  Craig County   \n",
       "\n",
       "  S18HODREP S18HODDEM  S18HODWRI  \n",
       "1       300        80        1.0  \n",
       "2       402        90        0.0  \n",
       "3       188        92        0.0  \n",
       "4       160        77        0.0  \n",
       "5       149        49        0.0  "
      ]
     },
     "execution_count": 302,
     "metadata": {},
     "output_type": "execute_result"
    }
   ],
   "source": [
    "df8.head()"
   ]
  },
  {
   "cell_type": "code",
   "execution_count": 303,
   "metadata": {},
   "outputs": [
    {
     "data": {
      "text/plain": [
       "5"
      ]
     },
     "execution_count": 303,
     "metadata": {},
     "output_type": "execute_result"
    }
   ],
   "source": [
    "df8.LOCALITY.nunique()"
   ]
  },
  {
   "cell_type": "code",
   "execution_count": 273,
   "metadata": {},
   "outputs": [],
   "source": [
    "'''\n",
    "Below code messing up the locality, so stop useing it\n",
    "\n",
    "def rename_columns(results, column_dict):\n",
    "    for col in results.columns:\n",
    "        print(col)\n",
    "        if col in column_dict.keys():\n",
    "            col_new_name = column_dict.get(col)\n",
    "            results = results.rename(columns = {col:col_new_name})\n",
    "            print(col_new_name)\n",
    "    return results.head()\n",
    "'''"
   ]
  },
  {
   "cell_type": "code",
   "execution_count": 304,
   "metadata": {},
   "outputs": [],
   "source": [
    "county_dict = pd.Series(final['COUNTYFP'].values, index = final['LOCALITY']).to_dict()"
   ]
  },
  {
   "cell_type": "code",
   "execution_count": 305,
   "metadata": {},
   "outputs": [
    {
     "data": {
      "text/plain": [
       "{'Amherst County': '009',\n",
       " 'Augusta County': '015',\n",
       " 'Bath County': '017',\n",
       " 'Rockbridge County': '163',\n",
       " 'Buena Vista City': '530',\n",
       " 'Lexington City': '678',\n",
       " 'Craig County': '045',\n",
       " 'Montgomery County': '121',\n",
       " 'Roanoke County': '161',\n",
       " 'Salem City': '775'}"
      ]
     },
     "execution_count": 305,
     "metadata": {},
     "output_type": "execute_result"
    }
   ],
   "source": [
    "county_dict"
   ]
  },
  {
   "cell_type": "code",
   "execution_count": 307,
   "metadata": {},
   "outputs": [
    {
     "data": {
      "text/plain": [
       "Roanoke County       15\n",
       "Salem City           12\n",
       "Craig County          9\n",
       "Montgomery County     8\n",
       "TOTALS                1\n",
       "Name: LOCALITY, dtype: int64"
      ]
     },
     "execution_count": 307,
     "metadata": {},
     "output_type": "execute_result"
    }
   ],
   "source": [
    "df8['LOCALITY'].value_counts()"
   ]
  },
  {
   "cell_type": "code",
   "execution_count": 310,
   "metadata": {},
   "outputs": [],
   "source": [
    "df8['COUNTYFP'] = df8['LOCALITY'].map(county_dict)"
   ]
  },
  {
   "cell_type": "code",
   "execution_count": 311,
   "metadata": {},
   "outputs": [
    {
     "data": {
      "text/plain": [
       "4"
      ]
     },
     "execution_count": 311,
     "metadata": {},
     "output_type": "execute_result"
    }
   ],
   "source": [
    "df8.COUNTYFP.nunique()"
   ]
  },
  {
   "cell_type": "code",
   "execution_count": 312,
   "metadata": {},
   "outputs": [
    {
     "data": {
      "text/plain": [
       "5"
      ]
     },
     "execution_count": 312,
     "metadata": {},
     "output_type": "execute_result"
    }
   ],
   "source": [
    "df8.LOCALITY.nunique()"
   ]
  },
  {
   "cell_type": "code",
   "execution_count": 313,
   "metadata": {},
   "outputs": [],
   "source": [
    "column_list = ['S18HODREP', 'S18HODDEM', 'S18HODWRI']"
   ]
  },
  {
   "cell_type": "code",
   "execution_count": 314,
   "metadata": {},
   "outputs": [],
   "source": [
    "df8['S18HODREP'] = df8['S18HODREP'].map(lambda x: str(x).replace(',', ''))\n",
    "df8['S18HODDEM'] = df8['S18HODDEM'].map(lambda x: str(x).replace(',', '')) \n",
    "df8['S18HODWRI'] = df8['S18HODWRI'].map(lambda x: str(x).replace(',', ''))"
   ]
  },
  {
   "cell_type": "code",
   "execution_count": 315,
   "metadata": {},
   "outputs": [],
   "source": [
    "df8['S18HODREP'] = df8['S18HODREP'].astype(str).astype(float).astype(int)\n",
    "df8['S18HODDEM'] = df8['S18HODDEM'].astype(str).astype(float).astype(int)\n",
    "df8['S18HODWRI'] = df8['S18HODWRI'].astype(str).astype(float).astype(int)"
   ]
  },
  {
   "cell_type": "code",
   "execution_count": 316,
   "metadata": {},
   "outputs": [
    {
     "data": {
      "text/html": [
       "<div>\n",
       "<style scoped>\n",
       "    .dataframe tbody tr th:only-of-type {\n",
       "        vertical-align: middle;\n",
       "    }\n",
       "\n",
       "    .dataframe tbody tr th {\n",
       "        vertical-align: top;\n",
       "    }\n",
       "\n",
       "    .dataframe thead th {\n",
       "        text-align: right;\n",
       "    }\n",
       "</style>\n",
       "<table border=\"1\" class=\"dataframe\">\n",
       "  <thead>\n",
       "    <tr style=\"text-align: right;\">\n",
       "      <th></th>\n",
       "      <th>S18HODREP</th>\n",
       "      <th>S18HODDEM</th>\n",
       "      <th>S18HODWRI</th>\n",
       "    </tr>\n",
       "    <tr>\n",
       "      <th>COUNTYFP</th>\n",
       "      <th></th>\n",
       "      <th></th>\n",
       "      <th></th>\n",
       "    </tr>\n",
       "  </thead>\n",
       "  <tbody>\n",
       "    <tr>\n",
       "      <th>045</th>\n",
       "      <td>1666</td>\n",
       "      <td>519</td>\n",
       "      <td>1</td>\n",
       "    </tr>\n",
       "    <tr>\n",
       "      <th>121</th>\n",
       "      <td>3706</td>\n",
       "      <td>2955</td>\n",
       "      <td>16</td>\n",
       "    </tr>\n",
       "    <tr>\n",
       "      <th>161</th>\n",
       "      <td>10487</td>\n",
       "      <td>5912</td>\n",
       "      <td>23</td>\n",
       "    </tr>\n",
       "    <tr>\n",
       "      <th>775</th>\n",
       "      <td>5942</td>\n",
       "      <td>3906</td>\n",
       "      <td>10</td>\n",
       "    </tr>\n",
       "  </tbody>\n",
       "</table>\n",
       "</div>"
      ],
      "text/plain": [
       "          S18HODREP  S18HODDEM  S18HODWRI\n",
       "COUNTYFP                                 \n",
       "045            1666        519          1\n",
       "121            3706       2955         16\n",
       "161           10487       5912         23\n",
       "775            5942       3906         10"
      ]
     },
     "execution_count": 316,
     "metadata": {},
     "output_type": "execute_result"
    }
   ],
   "source": [
    "df8.groupby(['COUNTYFP']).sum()"
   ]
  },
  {
   "cell_type": "markdown",
   "metadata": {},
   "source": [
    "### District 24"
   ]
  },
  {
   "cell_type": "code",
   "execution_count": 355,
   "metadata": {},
   "outputs": [],
   "source": [
    "df24 = pd.read_csv('./Virginia_Elections_Database__2018_House_of_Delegates_Special_General_Election_District_24_including_precincts.csv')"
   ]
  },
  {
   "cell_type": "code",
   "execution_count": 356,
   "metadata": {},
   "outputs": [
    {
     "data": {
      "text/html": [
       "<div>\n",
       "<style scoped>\n",
       "    .dataframe tbody tr th:only-of-type {\n",
       "        vertical-align: middle;\n",
       "    }\n",
       "\n",
       "    .dataframe tbody tr th {\n",
       "        vertical-align: top;\n",
       "    }\n",
       "\n",
       "    .dataframe thead th {\n",
       "        text-align: right;\n",
       "    }\n",
       "</style>\n",
       "<table border=\"1\" class=\"dataframe\">\n",
       "  <thead>\n",
       "    <tr style=\"text-align: right;\">\n",
       "      <th></th>\n",
       "      <th>County/City</th>\n",
       "      <th>Ward</th>\n",
       "      <th>Pct</th>\n",
       "      <th>Ronnie Ray Campbell</th>\n",
       "      <th>Christian Renau Worth</th>\n",
       "      <th>All Others</th>\n",
       "      <th>Total Votes Cast</th>\n",
       "    </tr>\n",
       "  </thead>\n",
       "  <tbody>\n",
       "    <tr>\n",
       "      <th>0</th>\n",
       "      <td>NaN</td>\n",
       "      <td>NaN</td>\n",
       "      <td>NaN</td>\n",
       "      <td>Republican</td>\n",
       "      <td>Democratic</td>\n",
       "      <td>NaN</td>\n",
       "      <td>NaN</td>\n",
       "    </tr>\n",
       "    <tr>\n",
       "      <th>1</th>\n",
       "      <td>Amherst County</td>\n",
       "      <td>-</td>\n",
       "      <td>102 - New Glasgow</td>\n",
       "      <td>164</td>\n",
       "      <td>114</td>\n",
       "      <td>2.0</td>\n",
       "      <td>280</td>\n",
       "    </tr>\n",
       "    <tr>\n",
       "      <th>2</th>\n",
       "      <td>Amherst County</td>\n",
       "      <td>-</td>\n",
       "      <td>103 - Coolwell</td>\n",
       "      <td>82</td>\n",
       "      <td>20</td>\n",
       "      <td>1.0</td>\n",
       "      <td>103</td>\n",
       "    </tr>\n",
       "    <tr>\n",
       "      <th>3</th>\n",
       "      <td>Amherst County</td>\n",
       "      <td>-</td>\n",
       "      <td>201 - Court House</td>\n",
       "      <td>397</td>\n",
       "      <td>261</td>\n",
       "      <td>13.0</td>\n",
       "      <td>671</td>\n",
       "    </tr>\n",
       "    <tr>\n",
       "      <th>4</th>\n",
       "      <td>Amherst County</td>\n",
       "      <td>-</td>\n",
       "      <td>202 - Temperance</td>\n",
       "      <td>137</td>\n",
       "      <td>59</td>\n",
       "      <td>3.0</td>\n",
       "      <td>199</td>\n",
       "    </tr>\n",
       "  </tbody>\n",
       "</table>\n",
       "</div>"
      ],
      "text/plain": [
       "      County/City Ward                Pct Ronnie Ray Campbell  \\\n",
       "0             NaN  NaN                NaN          Republican   \n",
       "1  Amherst County    -  102 - New Glasgow                 164   \n",
       "2  Amherst County    -     103 - Coolwell                  82   \n",
       "3  Amherst County    -  201 - Court House                 397   \n",
       "4  Amherst County    -   202 - Temperance                 137   \n",
       "\n",
       "  Christian Renau Worth  All Others Total Votes Cast  \n",
       "0            Democratic         NaN              NaN  \n",
       "1                   114         2.0              280  \n",
       "2                    20         1.0              103  \n",
       "3                   261        13.0              671  \n",
       "4                    59         3.0              199  "
      ]
     },
     "execution_count": 356,
     "metadata": {},
     "output_type": "execute_result"
    }
   ],
   "source": [
    "df24.head()"
   ]
  },
  {
   "cell_type": "code",
   "execution_count": 357,
   "metadata": {},
   "outputs": [
    {
     "data": {
      "text/plain": [
       "7"
      ]
     },
     "execution_count": 357,
     "metadata": {},
     "output_type": "execute_result"
    }
   ],
   "source": [
    "df24['County/City'].nunique()"
   ]
  },
  {
   "cell_type": "code",
   "execution_count": 358,
   "metadata": {},
   "outputs": [
    {
     "data": {
      "text/plain": [
       "(55, 7)"
      ]
     },
     "execution_count": 358,
     "metadata": {},
     "output_type": "execute_result"
    }
   ],
   "source": [
    "df24.shape"
   ]
  },
  {
   "cell_type": "code",
   "execution_count": 359,
   "metadata": {},
   "outputs": [],
   "source": [
    "df24 = df24.iloc[1:]"
   ]
  },
  {
   "cell_type": "code",
   "execution_count": 360,
   "metadata": {},
   "outputs": [],
   "source": [
    "df24 = df24.drop(['Ward'], axis = 1)"
   ]
  },
  {
   "cell_type": "code",
   "execution_count": 361,
   "metadata": {},
   "outputs": [],
   "source": [
    "df24['HOD_DIST'] = '24'"
   ]
  },
  {
   "cell_type": "code",
   "execution_count": 362,
   "metadata": {},
   "outputs": [
    {
     "data": {
      "text/plain": [
       "7"
      ]
     },
     "execution_count": 362,
     "metadata": {},
     "output_type": "execute_result"
    }
   ],
   "source": [
    "df24['County/City'].nunique()"
   ]
  },
  {
   "cell_type": "code",
   "execution_count": 364,
   "metadata": {},
   "outputs": [],
   "source": [
    "df24['LOCALITY'] = df24['County/City']\n",
    "df24['S18HODREP'] = df24['Ronnie Ray Campbell']\n",
    "df24['S18HODDEM'] = df24['Christian Renau Worth']\n",
    "df24['S18HODWRI'] = df24['All Others']\n",
    "df24 = df24.drop(['County/City', 'Ronnie Ray Campbell', 'Christian Renau Worth', 'All Others'], axis = 1)"
   ]
  },
  {
   "cell_type": "code",
   "execution_count": 223,
   "metadata": {},
   "outputs": [],
   "source": [
    "#df24 = rename_columns(df24, column_dict)"
   ]
  },
  {
   "cell_type": "code",
   "execution_count": 365,
   "metadata": {},
   "outputs": [],
   "source": [
    "df24['COUNTYFP'] = df24['LOCALITY'].map(county_dict)"
   ]
  },
  {
   "cell_type": "code",
   "execution_count": 366,
   "metadata": {},
   "outputs": [
    {
     "data": {
      "text/plain": [
       "7"
      ]
     },
     "execution_count": 366,
     "metadata": {},
     "output_type": "execute_result"
    }
   ],
   "source": [
    "df24['LOCALITY'].nunique()"
   ]
  },
  {
   "cell_type": "code",
   "execution_count": 367,
   "metadata": {},
   "outputs": [
    {
     "data": {
      "text/plain": [
       "6"
      ]
     },
     "execution_count": 367,
     "metadata": {},
     "output_type": "execute_result"
    }
   ],
   "source": [
    "df24['COUNTYFP'].nunique()"
   ]
  },
  {
   "cell_type": "code",
   "execution_count": 368,
   "metadata": {},
   "outputs": [
    {
     "data": {
      "text/plain": [
       "163    19\n",
       "009    11\n",
       "017     9\n",
       "015     8\n",
       "530     3\n",
       "678     3\n",
       "Name: COUNTYFP, dtype: int64"
      ]
     },
     "execution_count": 368,
     "metadata": {},
     "output_type": "execute_result"
    }
   ],
   "source": [
    "df24['COUNTYFP'].value_counts()"
   ]
  },
  {
   "cell_type": "code",
   "execution_count": 369,
   "metadata": {},
   "outputs": [
    {
     "data": {
      "text/plain": [
       "161    15\n",
       "775    12\n",
       "045     9\n",
       "121     8\n",
       "Name: COUNTYFP, dtype: int64"
      ]
     },
     "execution_count": 369,
     "metadata": {},
     "output_type": "execute_result"
    }
   ],
   "source": [
    "df8.COUNTYFP.value_counts()"
   ]
  },
  {
   "cell_type": "code",
   "execution_count": 370,
   "metadata": {},
   "outputs": [],
   "source": [
    "df24['S18HODREP'] = df24['S18HODREP'].map(lambda x: str(x).replace(',', ''))\n",
    "df24['S18HODDEM'] = df24['S18HODDEM'].map(lambda x: str(x).replace(',', '')) \n",
    "df24['S18HODWRI'] = df24['S18HODWRI'].map(lambda x: str(x).replace(',', ''))"
   ]
  },
  {
   "cell_type": "code",
   "execution_count": 371,
   "metadata": {},
   "outputs": [],
   "source": [
    "df24['S18HODREP'] = df24['S18HODREP'].astype(str).astype(float).astype(int)\n",
    "df24['S18HODDEM'] = df24['S18HODDEM'].astype(str).astype(float).astype(int)\n",
    "df24['S18HODWRI'] = df24['S18HODWRI'].astype(str).astype(float).astype(int)"
   ]
  },
  {
   "cell_type": "code",
   "execution_count": 372,
   "metadata": {},
   "outputs": [
    {
     "data": {
      "text/html": [
       "<div>\n",
       "<style scoped>\n",
       "    .dataframe tbody tr th:only-of-type {\n",
       "        vertical-align: middle;\n",
       "    }\n",
       "\n",
       "    .dataframe tbody tr th {\n",
       "        vertical-align: top;\n",
       "    }\n",
       "\n",
       "    .dataframe thead th {\n",
       "        text-align: right;\n",
       "    }\n",
       "</style>\n",
       "<table border=\"1\" class=\"dataframe\">\n",
       "  <thead>\n",
       "    <tr style=\"text-align: right;\">\n",
       "      <th></th>\n",
       "      <th>S18HODREP</th>\n",
       "      <th>S18HODDEM</th>\n",
       "      <th>S18HODWRI</th>\n",
       "    </tr>\n",
       "    <tr>\n",
       "      <th>COUNTYFP</th>\n",
       "      <th></th>\n",
       "      <th></th>\n",
       "      <th></th>\n",
       "    </tr>\n",
       "  </thead>\n",
       "  <tbody>\n",
       "    <tr>\n",
       "      <th>009</th>\n",
       "      <td>1659</td>\n",
       "      <td>844</td>\n",
       "      <td>45</td>\n",
       "    </tr>\n",
       "    <tr>\n",
       "      <th>015</th>\n",
       "      <td>1369</td>\n",
       "      <td>465</td>\n",
       "      <td>1</td>\n",
       "    </tr>\n",
       "    <tr>\n",
       "      <th>017</th>\n",
       "      <td>360</td>\n",
       "      <td>227</td>\n",
       "      <td>0</td>\n",
       "    </tr>\n",
       "    <tr>\n",
       "      <th>163</th>\n",
       "      <td>2560</td>\n",
       "      <td>1861</td>\n",
       "      <td>17</td>\n",
       "    </tr>\n",
       "    <tr>\n",
       "      <th>530</th>\n",
       "      <td>385</td>\n",
       "      <td>236</td>\n",
       "      <td>0</td>\n",
       "    </tr>\n",
       "    <tr>\n",
       "      <th>678</th>\n",
       "      <td>287</td>\n",
       "      <td>853</td>\n",
       "      <td>4</td>\n",
       "    </tr>\n",
       "  </tbody>\n",
       "</table>\n",
       "</div>"
      ],
      "text/plain": [
       "          S18HODREP  S18HODDEM  S18HODWRI\n",
       "COUNTYFP                                 \n",
       "009            1659        844         45\n",
       "015            1369        465          1\n",
       "017             360        227          0\n",
       "163            2560       1861         17\n",
       "530             385        236          0\n",
       "678             287        853          4"
      ]
     },
     "execution_count": 372,
     "metadata": {},
     "output_type": "execute_result"
    }
   ],
   "source": [
    "df24.groupby(['COUNTYFP']).sum()"
   ]
  },
  {
   "cell_type": "code",
   "execution_count": 373,
   "metadata": {},
   "outputs": [
    {
     "data": {
      "text/plain": [
       "10"
      ]
     },
     "execution_count": 373,
     "metadata": {},
     "output_type": "execute_result"
    }
   ],
   "source": [
    "df8.COUNTYFP.nunique() + df24.COUNTYFP.nunique()"
   ]
  },
  {
   "cell_type": "code",
   "execution_count": 374,
   "metadata": {},
   "outputs": [
    {
     "data": {
      "text/plain": [
       "161    15\n",
       "775    12\n",
       "045     9\n",
       "121     8\n",
       "Name: COUNTYFP, dtype: int64"
      ]
     },
     "execution_count": 374,
     "metadata": {},
     "output_type": "execute_result"
    }
   ],
   "source": [
    "df8.COUNTYFP.value_counts()"
   ]
  },
  {
   "cell_type": "code",
   "execution_count": 375,
   "metadata": {},
   "outputs": [
    {
     "data": {
      "text/plain": [
       "10"
      ]
     },
     "execution_count": 375,
     "metadata": {},
     "output_type": "execute_result"
    }
   ],
   "source": [
    "final.COUNTYFP.nunique()"
   ]
  },
  {
   "cell_type": "code",
   "execution_count": 376,
   "metadata": {},
   "outputs": [
    {
     "data": {
      "text/plain": [
       "024    42\n",
       "008    37\n",
       "Name: HOD_DIST, dtype: int64"
      ]
     },
     "execution_count": 376,
     "metadata": {},
     "output_type": "execute_result"
    }
   ],
   "source": [
    "final.HOD_DIST.value_counts()"
   ]
  },
  {
   "cell_type": "code",
   "execution_count": 377,
   "metadata": {},
   "outputs": [
    {
     "data": {
      "text/html": [
       "<div>\n",
       "<style scoped>\n",
       "    .dataframe tbody tr th:only-of-type {\n",
       "        vertical-align: middle;\n",
       "    }\n",
       "\n",
       "    .dataframe tbody tr th {\n",
       "        vertical-align: top;\n",
       "    }\n",
       "\n",
       "    .dataframe thead th {\n",
       "        text-align: right;\n",
       "    }\n",
       "</style>\n",
       "<table border=\"1\" class=\"dataframe\">\n",
       "  <thead>\n",
       "    <tr style=\"text-align: right;\">\n",
       "      <th></th>\n",
       "      <th>COUNTYFP</th>\n",
       "      <th>LOCALITY</th>\n",
       "      <th>VTDST</th>\n",
       "      <th>PRECINCT</th>\n",
       "      <th>HOD_DIST</th>\n",
       "      <th>S18HODDEM</th>\n",
       "      <th>S18HODREP</th>\n",
       "      <th>S18HODWRI</th>\n",
       "      <th>geometry</th>\n",
       "    </tr>\n",
       "  </thead>\n",
       "  <tbody>\n",
       "    <tr>\n",
       "      <th>0</th>\n",
       "      <td>009</td>\n",
       "      <td>Amherst County</td>\n",
       "      <td>000102</td>\n",
       "      <td>New Glasgow</td>\n",
       "      <td>024</td>\n",
       "      <td>117</td>\n",
       "      <td>168</td>\n",
       "      <td>2</td>\n",
       "      <td>POLYGON Z ((-79.04809 37.53463 0.00000, -79.04...</td>\n",
       "    </tr>\n",
       "    <tr>\n",
       "      <th>1</th>\n",
       "      <td>009</td>\n",
       "      <td>Amherst County</td>\n",
       "      <td>000103</td>\n",
       "      <td>Coolwell</td>\n",
       "      <td>024</td>\n",
       "      <td>21</td>\n",
       "      <td>84</td>\n",
       "      <td>1</td>\n",
       "      <td>POLYGON Z ((-79.08422 37.51334 0.00000, -79.08...</td>\n",
       "    </tr>\n",
       "    <tr>\n",
       "      <th>2</th>\n",
       "      <td>009</td>\n",
       "      <td>Amherst County</td>\n",
       "      <td>000201</td>\n",
       "      <td>Court House</td>\n",
       "      <td>024</td>\n",
       "      <td>270</td>\n",
       "      <td>408</td>\n",
       "      <td>14</td>\n",
       "      <td>POLYGON Z ((-79.15210 37.57883 0.00000, -79.15...</td>\n",
       "    </tr>\n",
       "    <tr>\n",
       "      <th>3</th>\n",
       "      <td>009</td>\n",
       "      <td>Amherst County</td>\n",
       "      <td>000202</td>\n",
       "      <td>Temperance</td>\n",
       "      <td>024</td>\n",
       "      <td>61</td>\n",
       "      <td>140</td>\n",
       "      <td>3</td>\n",
       "      <td>POLYGON Z ((-79.30301 37.74092 0.00000, -79.30...</td>\n",
       "    </tr>\n",
       "    <tr>\n",
       "      <th>4</th>\n",
       "      <td>009</td>\n",
       "      <td>Amherst County</td>\n",
       "      <td>000301</td>\n",
       "      <td>Monroe</td>\n",
       "      <td>024</td>\n",
       "      <td>68</td>\n",
       "      <td>163</td>\n",
       "      <td>5</td>\n",
       "      <td>POLYGON Z ((-79.19354 37.57677 0.00000, -79.19...</td>\n",
       "    </tr>\n",
       "    <tr>\n",
       "      <th>...</th>\n",
       "      <td>...</td>\n",
       "      <td>...</td>\n",
       "      <td>...</td>\n",
       "      <td>...</td>\n",
       "      <td>...</td>\n",
       "      <td>...</td>\n",
       "      <td>...</td>\n",
       "      <td>...</td>\n",
       "      <td>...</td>\n",
       "    </tr>\n",
       "    <tr>\n",
       "      <th>74</th>\n",
       "      <td>161</td>\n",
       "      <td>Roanoke County</td>\n",
       "      <td>000108</td>\n",
       "      <td>WILDWOOD</td>\n",
       "      <td>008</td>\n",
       "      <td>335</td>\n",
       "      <td>664</td>\n",
       "      <td>3</td>\n",
       "      <td>POLYGON Z ((-80.08046 37.32419 0.00000, -80.08...</td>\n",
       "    </tr>\n",
       "    <tr>\n",
       "      <th>75</th>\n",
       "      <td>161</td>\n",
       "      <td>Roanoke County</td>\n",
       "      <td>000106</td>\n",
       "      <td>GREEN HILL</td>\n",
       "      <td>008</td>\n",
       "      <td>643</td>\n",
       "      <td>1271</td>\n",
       "      <td>3</td>\n",
       "      <td>POLYGON Z ((-80.08835 37.28149 0.00000, -80.08...</td>\n",
       "    </tr>\n",
       "    <tr>\n",
       "      <th>76</th>\n",
       "      <td>161</td>\n",
       "      <td>Roanoke County</td>\n",
       "      <td>000103</td>\n",
       "      <td>GLENVAR</td>\n",
       "      <td>008</td>\n",
       "      <td>374</td>\n",
       "      <td>835</td>\n",
       "      <td>2</td>\n",
       "      <td>POLYGON Z ((-80.21886 37.26382 0.00000, -80.21...</td>\n",
       "    </tr>\n",
       "    <tr>\n",
       "      <th>77</th>\n",
       "      <td>121</td>\n",
       "      <td>Montgomery County</td>\n",
       "      <td>000304</td>\n",
       "      <td>Precinct C-4</td>\n",
       "      <td>008</td>\n",
       "      <td>599</td>\n",
       "      <td>810</td>\n",
       "      <td>3</td>\n",
       "      <td>POLYGON Z ((-80.30263 37.16025 0.00000, -80.30...</td>\n",
       "    </tr>\n",
       "    <tr>\n",
       "      <th>78</th>\n",
       "      <td>015</td>\n",
       "      <td>Augusta County</td>\n",
       "      <td>000602</td>\n",
       "      <td>Ridgeview</td>\n",
       "      <td>024</td>\n",
       "      <td>162</td>\n",
       "      <td>443</td>\n",
       "      <td>0</td>\n",
       "      <td>POLYGON Z ((-79.04959 38.01807 0.00000, -79.04...</td>\n",
       "    </tr>\n",
       "  </tbody>\n",
       "</table>\n",
       "<p>79 rows × 9 columns</p>\n",
       "</div>"
      ],
      "text/plain": [
       "   COUNTYFP           LOCALITY   VTDST      PRECINCT HOD_DIST  S18HODDEM  \\\n",
       "0       009     Amherst County  000102   New Glasgow      024        117   \n",
       "1       009     Amherst County  000103      Coolwell      024         21   \n",
       "2       009     Amherst County  000201   Court House      024        270   \n",
       "3       009     Amherst County  000202    Temperance      024         61   \n",
       "4       009     Amherst County  000301        Monroe      024         68   \n",
       "..      ...                ...     ...           ...      ...        ...   \n",
       "74      161     Roanoke County  000108      WILDWOOD      008        335   \n",
       "75      161     Roanoke County  000106    GREEN HILL      008        643   \n",
       "76      161     Roanoke County  000103       GLENVAR      008        374   \n",
       "77      121  Montgomery County  000304  Precinct C-4      008        599   \n",
       "78      015     Augusta County  000602     Ridgeview      024        162   \n",
       "\n",
       "    S18HODREP  S18HODWRI                                           geometry  \n",
       "0         168          2  POLYGON Z ((-79.04809 37.53463 0.00000, -79.04...  \n",
       "1          84          1  POLYGON Z ((-79.08422 37.51334 0.00000, -79.08...  \n",
       "2         408         14  POLYGON Z ((-79.15210 37.57883 0.00000, -79.15...  \n",
       "3         140          3  POLYGON Z ((-79.30301 37.74092 0.00000, -79.30...  \n",
       "4         163          5  POLYGON Z ((-79.19354 37.57677 0.00000, -79.19...  \n",
       "..        ...        ...                                                ...  \n",
       "74        664          3  POLYGON Z ((-80.08046 37.32419 0.00000, -80.08...  \n",
       "75       1271          3  POLYGON Z ((-80.08835 37.28149 0.00000, -80.08...  \n",
       "76        835          2  POLYGON Z ((-80.21886 37.26382 0.00000, -80.21...  \n",
       "77        810          3  POLYGON Z ((-80.30263 37.16025 0.00000, -80.30...  \n",
       "78        443          0  POLYGON Z ((-79.04959 38.01807 0.00000, -79.04...  \n",
       "\n",
       "[79 rows x 9 columns]"
      ]
     },
     "execution_count": 377,
     "metadata": {},
     "output_type": "execute_result"
    }
   ],
   "source": [
    "final"
   ]
  },
  {
   "cell_type": "markdown",
   "metadata": {},
   "source": [
    "### Districts 24 and 8 together"
   ]
  },
  {
   "cell_type": "code",
   "execution_count": 378,
   "metadata": {},
   "outputs": [],
   "source": [
    "elections = []\n",
    "elections.append(df24)\n",
    "elections.append(df8)"
   ]
  },
  {
   "cell_type": "code",
   "execution_count": 379,
   "metadata": {},
   "outputs": [],
   "source": [
    "df = pd.concat(elections, axis = 0)"
   ]
  },
  {
   "cell_type": "code",
   "execution_count": 380,
   "metadata": {},
   "outputs": [],
   "source": [
    "df = df[df['LOCALITY'] != 'TOTALS']"
   ]
  },
  {
   "cell_type": "code",
   "execution_count": 381,
   "metadata": {},
   "outputs": [],
   "source": [
    "def get_absentee_frac(prec_tot, county_tot, absentee_tot):\n",
    "    '''A spec specifies in first line what function will do\n",
    "    Returns fraction of county absentee votes for a precinct for a candidate\n",
    "    \n",
    "    Keyword arguments: (put inputs to funtions and say what they should be)\n",
    "    precinct vote total for given candidate (int)\n",
    "    county vote total for given candidate, absentee and provisional votes not included (int)\n",
    "    absentee vote total for county for given candidate (int)\n",
    "    \n",
    "    \"Pure function\" bc only relies on inputs and outputs - only variables are ones that were passed as arguments\n",
    "    '''\n",
    "    if county_tot != 0:\n",
    "        prec_frac = prec_tot/county_tot\n",
    "        absentee_frac = prec_frac*absentee_tot\n",
    "    else:\n",
    "        absentee_frac = 0\n",
    "    return absentee_frac"
   ]
  },
  {
   "cell_type": "code",
   "execution_count": 382,
   "metadata": {},
   "outputs": [
    {
     "data": {
      "text/html": [
       "<div>\n",
       "<style scoped>\n",
       "    .dataframe tbody tr th:only-of-type {\n",
       "        vertical-align: middle;\n",
       "    }\n",
       "\n",
       "    .dataframe tbody tr th {\n",
       "        vertical-align: top;\n",
       "    }\n",
       "\n",
       "    .dataframe thead th {\n",
       "        text-align: right;\n",
       "    }\n",
       "</style>\n",
       "<table border=\"1\" class=\"dataframe\">\n",
       "  <thead>\n",
       "    <tr style=\"text-align: right;\">\n",
       "      <th></th>\n",
       "      <th>Pct</th>\n",
       "      <th>Total Votes Cast</th>\n",
       "      <th>HOD_DIST</th>\n",
       "      <th>LOCALITY</th>\n",
       "      <th>S18HODREP</th>\n",
       "      <th>S18HODDEM</th>\n",
       "      <th>S18HODWRI</th>\n",
       "      <th>COUNTYFP</th>\n",
       "    </tr>\n",
       "  </thead>\n",
       "  <tbody>\n",
       "    <tr>\n",
       "      <th>10</th>\n",
       "      <td>Ab - Central Absentee Precinct</td>\n",
       "      <td>66</td>\n",
       "      <td>24</td>\n",
       "      <td>Amherst County</td>\n",
       "      <td>40</td>\n",
       "      <td>25</td>\n",
       "      <td>1</td>\n",
       "      <td>009</td>\n",
       "    </tr>\n",
       "    <tr>\n",
       "      <th>11</th>\n",
       "      <td>Provisional</td>\n",
       "      <td>2</td>\n",
       "      <td>24</td>\n",
       "      <td>Amherst County</td>\n",
       "      <td>1</td>\n",
       "      <td>1</td>\n",
       "      <td>0</td>\n",
       "      <td>009</td>\n",
       "    </tr>\n",
       "    <tr>\n",
       "      <th>18</th>\n",
       "      <td>Ab - Central Absentee Precinct</td>\n",
       "      <td>24</td>\n",
       "      <td>24</td>\n",
       "      <td>Augusta County</td>\n",
       "      <td>18</td>\n",
       "      <td>6</td>\n",
       "      <td>0</td>\n",
       "      <td>015</td>\n",
       "    </tr>\n",
       "    <tr>\n",
       "      <th>19</th>\n",
       "      <td>Provisional</td>\n",
       "      <td>1</td>\n",
       "      <td>24</td>\n",
       "      <td>Augusta County</td>\n",
       "      <td>1</td>\n",
       "      <td>0</td>\n",
       "      <td>0</td>\n",
       "      <td>015</td>\n",
       "    </tr>\n",
       "    <tr>\n",
       "      <th>27</th>\n",
       "      <td>Ab - Central Absentee Precinct</td>\n",
       "      <td>20</td>\n",
       "      <td>24</td>\n",
       "      <td>Bath County</td>\n",
       "      <td>7</td>\n",
       "      <td>13</td>\n",
       "      <td>0</td>\n",
       "      <td>017</td>\n",
       "    </tr>\n",
       "    <tr>\n",
       "      <th>28</th>\n",
       "      <td>Provisional</td>\n",
       "      <td>0</td>\n",
       "      <td>24</td>\n",
       "      <td>Bath County</td>\n",
       "      <td>0</td>\n",
       "      <td>0</td>\n",
       "      <td>0</td>\n",
       "      <td>017</td>\n",
       "    </tr>\n",
       "    <tr>\n",
       "      <th>31</th>\n",
       "      <td>Provisional</td>\n",
       "      <td>0</td>\n",
       "      <td>24</td>\n",
       "      <td>Buena Vista City</td>\n",
       "      <td>0</td>\n",
       "      <td>0</td>\n",
       "      <td>0</td>\n",
       "      <td>530</td>\n",
       "    </tr>\n",
       "    <tr>\n",
       "      <th>33</th>\n",
       "      <td>Ab - Central Absentee Precinct</td>\n",
       "      <td>91</td>\n",
       "      <td>24</td>\n",
       "      <td>Lexington City</td>\n",
       "      <td>27</td>\n",
       "      <td>62</td>\n",
       "      <td>2</td>\n",
       "      <td>678</td>\n",
       "    </tr>\n",
       "    <tr>\n",
       "      <th>34</th>\n",
       "      <td>Provisional</td>\n",
       "      <td>0</td>\n",
       "      <td>24</td>\n",
       "      <td>Lexington City</td>\n",
       "      <td>0</td>\n",
       "      <td>0</td>\n",
       "      <td>0</td>\n",
       "      <td>678</td>\n",
       "    </tr>\n",
       "    <tr>\n",
       "      <th>52</th>\n",
       "      <td>Ab - Central Absentee Precinct</td>\n",
       "      <td>151</td>\n",
       "      <td>24</td>\n",
       "      <td>Rockbridge County</td>\n",
       "      <td>78</td>\n",
       "      <td>73</td>\n",
       "      <td>0</td>\n",
       "      <td>163</td>\n",
       "    </tr>\n",
       "    <tr>\n",
       "      <th>53</th>\n",
       "      <td>Provisional</td>\n",
       "      <td>2</td>\n",
       "      <td>24</td>\n",
       "      <td>Rockbridge County</td>\n",
       "      <td>0</td>\n",
       "      <td>2</td>\n",
       "      <td>0</td>\n",
       "      <td>163</td>\n",
       "    </tr>\n",
       "    <tr>\n",
       "      <th>9</th>\n",
       "      <td>Provisional</td>\n",
       "      <td>0</td>\n",
       "      <td>8</td>\n",
       "      <td>Craig County</td>\n",
       "      <td>0</td>\n",
       "      <td>0</td>\n",
       "      <td>0</td>\n",
       "      <td>045</td>\n",
       "    </tr>\n",
       "    <tr>\n",
       "      <th>16</th>\n",
       "      <td>Ab - Central Absentee Precinct</td>\n",
       "      <td>386</td>\n",
       "      <td>8</td>\n",
       "      <td>Montgomery County</td>\n",
       "      <td>169</td>\n",
       "      <td>217</td>\n",
       "      <td>0</td>\n",
       "      <td>121</td>\n",
       "    </tr>\n",
       "    <tr>\n",
       "      <th>17</th>\n",
       "      <td>Provisional</td>\n",
       "      <td>1</td>\n",
       "      <td>8</td>\n",
       "      <td>Montgomery County</td>\n",
       "      <td>1</td>\n",
       "      <td>0</td>\n",
       "      <td>0</td>\n",
       "      <td>121</td>\n",
       "    </tr>\n",
       "    <tr>\n",
       "      <th>31</th>\n",
       "      <td>Ab - Central Absentee Precinct</td>\n",
       "      <td>1,278</td>\n",
       "      <td>8</td>\n",
       "      <td>Roanoke County</td>\n",
       "      <td>715</td>\n",
       "      <td>562</td>\n",
       "      <td>1</td>\n",
       "      <td>161</td>\n",
       "    </tr>\n",
       "    <tr>\n",
       "      <th>32</th>\n",
       "      <td>Provisional</td>\n",
       "      <td>9</td>\n",
       "      <td>8</td>\n",
       "      <td>Roanoke County</td>\n",
       "      <td>7</td>\n",
       "      <td>2</td>\n",
       "      <td>0</td>\n",
       "      <td>161</td>\n",
       "    </tr>\n",
       "    <tr>\n",
       "      <th>43</th>\n",
       "      <td>Ab - Central Absentee Precinct</td>\n",
       "      <td>729</td>\n",
       "      <td>8</td>\n",
       "      <td>Salem City</td>\n",
       "      <td>424</td>\n",
       "      <td>304</td>\n",
       "      <td>1</td>\n",
       "      <td>775</td>\n",
       "    </tr>\n",
       "    <tr>\n",
       "      <th>44</th>\n",
       "      <td>Provisional</td>\n",
       "      <td>5</td>\n",
       "      <td>8</td>\n",
       "      <td>Salem City</td>\n",
       "      <td>4</td>\n",
       "      <td>1</td>\n",
       "      <td>0</td>\n",
       "      <td>775</td>\n",
       "    </tr>\n",
       "  </tbody>\n",
       "</table>\n",
       "</div>"
      ],
      "text/plain": [
       "                               Pct Total Votes Cast HOD_DIST  \\\n",
       "10  Ab - Central Absentee Precinct               66       24   \n",
       "11                     Provisional                2       24   \n",
       "18  Ab - Central Absentee Precinct               24       24   \n",
       "19                     Provisional                1       24   \n",
       "27  Ab - Central Absentee Precinct               20       24   \n",
       "28                     Provisional                0       24   \n",
       "31                     Provisional                0       24   \n",
       "33  Ab - Central Absentee Precinct               91       24   \n",
       "34                     Provisional                0       24   \n",
       "52  Ab - Central Absentee Precinct              151       24   \n",
       "53                     Provisional                2       24   \n",
       "9                      Provisional                0        8   \n",
       "16  Ab - Central Absentee Precinct              386        8   \n",
       "17                     Provisional                1        8   \n",
       "31  Ab - Central Absentee Precinct            1,278        8   \n",
       "32                     Provisional                9        8   \n",
       "43  Ab - Central Absentee Precinct              729        8   \n",
       "44                     Provisional                5        8   \n",
       "\n",
       "             LOCALITY  S18HODREP  S18HODDEM  S18HODWRI COUNTYFP  \n",
       "10     Amherst County         40         25          1      009  \n",
       "11     Amherst County          1          1          0      009  \n",
       "18     Augusta County         18          6          0      015  \n",
       "19     Augusta County          1          0          0      015  \n",
       "27        Bath County          7         13          0      017  \n",
       "28        Bath County          0          0          0      017  \n",
       "31   Buena Vista City          0          0          0      530  \n",
       "33     Lexington City         27         62          2      678  \n",
       "34     Lexington City          0          0          0      678  \n",
       "52  Rockbridge County         78         73          0      163  \n",
       "53  Rockbridge County          0          2          0      163  \n",
       "9        Craig County          0          0          0      045  \n",
       "16  Montgomery County        169        217          0      121  \n",
       "17  Montgomery County          1          0          0      121  \n",
       "31     Roanoke County        715        562          1      161  \n",
       "32     Roanoke County          7          2          0      161  \n",
       "43         Salem City        424        304          1      775  \n",
       "44         Salem City          4          1          0      775  "
      ]
     },
     "execution_count": 382,
     "metadata": {},
     "output_type": "execute_result"
    }
   ],
   "source": [
    "absentee_and_prov = df[(df['Pct'].map(lambda x: 'Absentee' in str(x))) | (df['Pct'].map(lambda x: 'Provisional' in str(x)))]\n",
    "absentee_and_prov"
   ]
  },
  {
   "cell_type": "code",
   "execution_count": 383,
   "metadata": {},
   "outputs": [
    {
     "data": {
      "text/plain": [
       "2765"
      ]
     },
     "execution_count": 383,
     "metadata": {},
     "output_type": "execute_result"
    }
   ],
   "source": [
    "absentee_and_prov[column_list].sum().sum()"
   ]
  },
  {
   "cell_type": "code",
   "execution_count": 384,
   "metadata": {},
   "outputs": [
    {
     "data": {
      "text/html": [
       "<div>\n",
       "<style scoped>\n",
       "    .dataframe tbody tr th:only-of-type {\n",
       "        vertical-align: middle;\n",
       "    }\n",
       "\n",
       "    .dataframe tbody tr th {\n",
       "        vertical-align: top;\n",
       "    }\n",
       "\n",
       "    .dataframe thead th {\n",
       "        text-align: right;\n",
       "    }\n",
       "</style>\n",
       "<table border=\"1\" class=\"dataframe\">\n",
       "  <thead>\n",
       "    <tr style=\"text-align: right;\">\n",
       "      <th></th>\n",
       "      <th>S18HODREP</th>\n",
       "      <th>S18HODDEM</th>\n",
       "      <th>S18HODWRI</th>\n",
       "    </tr>\n",
       "    <tr>\n",
       "      <th>COUNTYFP</th>\n",
       "      <th></th>\n",
       "      <th></th>\n",
       "      <th></th>\n",
       "    </tr>\n",
       "  </thead>\n",
       "  <tbody>\n",
       "    <tr>\n",
       "      <th>009</th>\n",
       "      <td>41</td>\n",
       "      <td>26</td>\n",
       "      <td>1</td>\n",
       "    </tr>\n",
       "    <tr>\n",
       "      <th>015</th>\n",
       "      <td>19</td>\n",
       "      <td>6</td>\n",
       "      <td>0</td>\n",
       "    </tr>\n",
       "    <tr>\n",
       "      <th>017</th>\n",
       "      <td>7</td>\n",
       "      <td>13</td>\n",
       "      <td>0</td>\n",
       "    </tr>\n",
       "    <tr>\n",
       "      <th>045</th>\n",
       "      <td>0</td>\n",
       "      <td>0</td>\n",
       "      <td>0</td>\n",
       "    </tr>\n",
       "    <tr>\n",
       "      <th>121</th>\n",
       "      <td>170</td>\n",
       "      <td>217</td>\n",
       "      <td>0</td>\n",
       "    </tr>\n",
       "    <tr>\n",
       "      <th>161</th>\n",
       "      <td>722</td>\n",
       "      <td>564</td>\n",
       "      <td>1</td>\n",
       "    </tr>\n",
       "    <tr>\n",
       "      <th>163</th>\n",
       "      <td>78</td>\n",
       "      <td>75</td>\n",
       "      <td>0</td>\n",
       "    </tr>\n",
       "    <tr>\n",
       "      <th>530</th>\n",
       "      <td>0</td>\n",
       "      <td>0</td>\n",
       "      <td>0</td>\n",
       "    </tr>\n",
       "    <tr>\n",
       "      <th>678</th>\n",
       "      <td>27</td>\n",
       "      <td>62</td>\n",
       "      <td>2</td>\n",
       "    </tr>\n",
       "    <tr>\n",
       "      <th>775</th>\n",
       "      <td>428</td>\n",
       "      <td>305</td>\n",
       "      <td>1</td>\n",
       "    </tr>\n",
       "  </tbody>\n",
       "</table>\n",
       "</div>"
      ],
      "text/plain": [
       "          S18HODREP  S18HODDEM  S18HODWRI\n",
       "COUNTYFP                                 \n",
       "009              41         26          1\n",
       "015              19          6          0\n",
       "017               7         13          0\n",
       "045               0          0          0\n",
       "121             170        217          0\n",
       "161             722        564          1\n",
       "163              78         75          0\n",
       "530               0          0          0\n",
       "678              27         62          2\n",
       "775             428        305          1"
      ]
     },
     "execution_count": 384,
     "metadata": {},
     "output_type": "execute_result"
    }
   ],
   "source": [
    "groupby_absentee_and_prov_tot = absentee_and_prov.groupby(['COUNTYFP']).sum()\n",
    "groupby_absentee_and_prov_tot"
   ]
  },
  {
   "cell_type": "code",
   "execution_count": 385,
   "metadata": {},
   "outputs": [],
   "source": [
    "groupby_county_df_tot = df.groupby(['COUNTYFP']).sum()\n",
    "df_no_absent_or_provisional = df[(df['Pct'].map(lambda x: 'Absentee' not in str(x))) & (df['Pct'].map(lambda x: 'Provisional' not in str(x)))\n",
    "                                & (df['LOCALITY'] != 'TOTALS') & (df['COUNTYFP'] != '009')]\n",
    "groupby_county_tot_no_absentee = df_no_absent_or_provisional.groupby('COUNTYFP').sum()"
   ]
  },
  {
   "cell_type": "code",
   "execution_count": 386,
   "metadata": {},
   "outputs": [
    {
     "data": {
      "text/plain": [
       "41071"
      ]
     },
     "execution_count": 386,
     "metadata": {},
     "output_type": "execute_result"
    }
   ],
   "source": [
    "df_no_absent_or_provisional[column_list].sum().sum()"
   ]
  },
  {
   "cell_type": "code",
   "execution_count": 387,
   "metadata": {},
   "outputs": [
    {
     "data": {
      "text/html": [
       "<div>\n",
       "<style scoped>\n",
       "    .dataframe tbody tr th:only-of-type {\n",
       "        vertical-align: middle;\n",
       "    }\n",
       "\n",
       "    .dataframe tbody tr th {\n",
       "        vertical-align: top;\n",
       "    }\n",
       "\n",
       "    .dataframe thead th {\n",
       "        text-align: right;\n",
       "    }\n",
       "</style>\n",
       "<table border=\"1\" class=\"dataframe\">\n",
       "  <thead>\n",
       "    <tr style=\"text-align: right;\">\n",
       "      <th></th>\n",
       "      <th>S18HODREP</th>\n",
       "      <th>S18HODDEM</th>\n",
       "      <th>S18HODWRI</th>\n",
       "    </tr>\n",
       "    <tr>\n",
       "      <th>COUNTYFP</th>\n",
       "      <th></th>\n",
       "      <th></th>\n",
       "      <th></th>\n",
       "    </tr>\n",
       "  </thead>\n",
       "  <tbody>\n",
       "    <tr>\n",
       "      <th>015</th>\n",
       "      <td>1350</td>\n",
       "      <td>459</td>\n",
       "      <td>1</td>\n",
       "    </tr>\n",
       "    <tr>\n",
       "      <th>017</th>\n",
       "      <td>353</td>\n",
       "      <td>214</td>\n",
       "      <td>0</td>\n",
       "    </tr>\n",
       "    <tr>\n",
       "      <th>045</th>\n",
       "      <td>1666</td>\n",
       "      <td>519</td>\n",
       "      <td>1</td>\n",
       "    </tr>\n",
       "    <tr>\n",
       "      <th>121</th>\n",
       "      <td>3536</td>\n",
       "      <td>2738</td>\n",
       "      <td>16</td>\n",
       "    </tr>\n",
       "    <tr>\n",
       "      <th>161</th>\n",
       "      <td>9765</td>\n",
       "      <td>5348</td>\n",
       "      <td>22</td>\n",
       "    </tr>\n",
       "    <tr>\n",
       "      <th>163</th>\n",
       "      <td>2482</td>\n",
       "      <td>1786</td>\n",
       "      <td>17</td>\n",
       "    </tr>\n",
       "    <tr>\n",
       "      <th>530</th>\n",
       "      <td>385</td>\n",
       "      <td>236</td>\n",
       "      <td>0</td>\n",
       "    </tr>\n",
       "    <tr>\n",
       "      <th>678</th>\n",
       "      <td>260</td>\n",
       "      <td>791</td>\n",
       "      <td>2</td>\n",
       "    </tr>\n",
       "    <tr>\n",
       "      <th>775</th>\n",
       "      <td>5514</td>\n",
       "      <td>3601</td>\n",
       "      <td>9</td>\n",
       "    </tr>\n",
       "  </tbody>\n",
       "</table>\n",
       "</div>"
      ],
      "text/plain": [
       "          S18HODREP  S18HODDEM  S18HODWRI\n",
       "COUNTYFP                                 \n",
       "015            1350        459          1\n",
       "017             353        214          0\n",
       "045            1666        519          1\n",
       "121            3536       2738         16\n",
       "161            9765       5348         22\n",
       "163            2482       1786         17\n",
       "530             385        236          0\n",
       "678             260        791          2\n",
       "775            5514       3601          9"
      ]
     },
     "execution_count": 387,
     "metadata": {},
     "output_type": "execute_result"
    }
   ],
   "source": [
    "groupby_county_tot_no_absentee"
   ]
  },
  {
   "cell_type": "code",
   "execution_count": 354,
   "metadata": {},
   "outputs": [
    {
     "data": {
      "text/html": [
       "<div>\n",
       "<style scoped>\n",
       "    .dataframe tbody tr th:only-of-type {\n",
       "        vertical-align: middle;\n",
       "    }\n",
       "\n",
       "    .dataframe tbody tr th {\n",
       "        vertical-align: top;\n",
       "    }\n",
       "\n",
       "    .dataframe thead th {\n",
       "        text-align: right;\n",
       "    }\n",
       "</style>\n",
       "<table border=\"1\" class=\"dataframe\">\n",
       "  <thead>\n",
       "    <tr style=\"text-align: right;\">\n",
       "      <th></th>\n",
       "      <th>County/City</th>\n",
       "      <th>Pct</th>\n",
       "      <th>Ronnie Ray Campbell</th>\n",
       "      <th>Christian Renau Worth</th>\n",
       "      <th>All Others</th>\n",
       "      <th>Total Votes Cast</th>\n",
       "      <th>HOD_DIST</th>\n",
       "      <th>LOCALITY</th>\n",
       "      <th>S18HODREP</th>\n",
       "      <th>S18HODDEM</th>\n",
       "      <th>S18HODWRI</th>\n",
       "      <th>COUNTYFP</th>\n",
       "    </tr>\n",
       "  </thead>\n",
       "  <tbody>\n",
       "    <tr>\n",
       "      <th>1</th>\n",
       "      <td>Amherst County</td>\n",
       "      <td>102 - New Glasgow</td>\n",
       "      <td>164</td>\n",
       "      <td>114</td>\n",
       "      <td>2.0</td>\n",
       "      <td>280</td>\n",
       "      <td>24</td>\n",
       "      <td>Amherst County</td>\n",
       "      <td>164</td>\n",
       "      <td>114</td>\n",
       "      <td>2</td>\n",
       "      <td>009</td>\n",
       "    </tr>\n",
       "    <tr>\n",
       "      <th>2</th>\n",
       "      <td>Amherst County</td>\n",
       "      <td>103 - Coolwell</td>\n",
       "      <td>82</td>\n",
       "      <td>20</td>\n",
       "      <td>1.0</td>\n",
       "      <td>103</td>\n",
       "      <td>24</td>\n",
       "      <td>Amherst County</td>\n",
       "      <td>82</td>\n",
       "      <td>20</td>\n",
       "      <td>1</td>\n",
       "      <td>009</td>\n",
       "    </tr>\n",
       "    <tr>\n",
       "      <th>3</th>\n",
       "      <td>Amherst County</td>\n",
       "      <td>201 - Court House</td>\n",
       "      <td>397</td>\n",
       "      <td>261</td>\n",
       "      <td>13.0</td>\n",
       "      <td>671</td>\n",
       "      <td>24</td>\n",
       "      <td>Amherst County</td>\n",
       "      <td>397</td>\n",
       "      <td>261</td>\n",
       "      <td>13</td>\n",
       "      <td>009</td>\n",
       "    </tr>\n",
       "    <tr>\n",
       "      <th>4</th>\n",
       "      <td>Amherst County</td>\n",
       "      <td>202 - Temperance</td>\n",
       "      <td>137</td>\n",
       "      <td>59</td>\n",
       "      <td>3.0</td>\n",
       "      <td>199</td>\n",
       "      <td>24</td>\n",
       "      <td>Amherst County</td>\n",
       "      <td>137</td>\n",
       "      <td>59</td>\n",
       "      <td>3</td>\n",
       "      <td>009</td>\n",
       "    </tr>\n",
       "    <tr>\n",
       "      <th>5</th>\n",
       "      <td>Amherst County</td>\n",
       "      <td>301 - Monroe</td>\n",
       "      <td>159</td>\n",
       "      <td>66</td>\n",
       "      <td>5.0</td>\n",
       "      <td>230</td>\n",
       "      <td>24</td>\n",
       "      <td>Amherst County</td>\n",
       "      <td>159</td>\n",
       "      <td>66</td>\n",
       "      <td>5</td>\n",
       "      <td>009</td>\n",
       "    </tr>\n",
       "    <tr>\n",
       "      <th>...</th>\n",
       "      <td>...</td>\n",
       "      <td>...</td>\n",
       "      <td>...</td>\n",
       "      <td>...</td>\n",
       "      <td>...</td>\n",
       "      <td>...</td>\n",
       "      <td>...</td>\n",
       "      <td>...</td>\n",
       "      <td>...</td>\n",
       "      <td>...</td>\n",
       "      <td>...</td>\n",
       "      <td>...</td>\n",
       "    </tr>\n",
       "    <tr>\n",
       "      <th>40</th>\n",
       "      <td>0</td>\n",
       "      <td>8 - East Salem</td>\n",
       "      <td>0</td>\n",
       "      <td>0</td>\n",
       "      <td>0.0</td>\n",
       "      <td>334</td>\n",
       "      <td>8</td>\n",
       "      <td>Salem City</td>\n",
       "      <td>198</td>\n",
       "      <td>136</td>\n",
       "      <td>0</td>\n",
       "      <td>775</td>\n",
       "    </tr>\n",
       "    <tr>\n",
       "      <th>41</th>\n",
       "      <td>0</td>\n",
       "      <td>9 - South Side Hills</td>\n",
       "      <td>0</td>\n",
       "      <td>0</td>\n",
       "      <td>0.0</td>\n",
       "      <td>1,247</td>\n",
       "      <td>8</td>\n",
       "      <td>Salem City</td>\n",
       "      <td>834</td>\n",
       "      <td>413</td>\n",
       "      <td>0</td>\n",
       "      <td>775</td>\n",
       "    </tr>\n",
       "    <tr>\n",
       "      <th>42</th>\n",
       "      <td>0</td>\n",
       "      <td>10 - Hidden Valley</td>\n",
       "      <td>0</td>\n",
       "      <td>0</td>\n",
       "      <td>0.0</td>\n",
       "      <td>1,367</td>\n",
       "      <td>8</td>\n",
       "      <td>Salem City</td>\n",
       "      <td>830</td>\n",
       "      <td>536</td>\n",
       "      <td>1</td>\n",
       "      <td>775</td>\n",
       "    </tr>\n",
       "    <tr>\n",
       "      <th>43</th>\n",
       "      <td>0</td>\n",
       "      <td>Ab - Central Absentee Precinct</td>\n",
       "      <td>0</td>\n",
       "      <td>0</td>\n",
       "      <td>0.0</td>\n",
       "      <td>729</td>\n",
       "      <td>8</td>\n",
       "      <td>Salem City</td>\n",
       "      <td>424</td>\n",
       "      <td>304</td>\n",
       "      <td>1</td>\n",
       "      <td>775</td>\n",
       "    </tr>\n",
       "    <tr>\n",
       "      <th>44</th>\n",
       "      <td>0</td>\n",
       "      <td>Provisional</td>\n",
       "      <td>0</td>\n",
       "      <td>0</td>\n",
       "      <td>0.0</td>\n",
       "      <td>5</td>\n",
       "      <td>8</td>\n",
       "      <td>Salem City</td>\n",
       "      <td>4</td>\n",
       "      <td>1</td>\n",
       "      <td>0</td>\n",
       "      <td>775</td>\n",
       "    </tr>\n",
       "  </tbody>\n",
       "</table>\n",
       "<p>97 rows × 12 columns</p>\n",
       "</div>"
      ],
      "text/plain": [
       "       County/City                             Pct Ronnie Ray Campbell  \\\n",
       "1   Amherst County               102 - New Glasgow                 164   \n",
       "2   Amherst County                  103 - Coolwell                  82   \n",
       "3   Amherst County               201 - Court House                 397   \n",
       "4   Amherst County                202 - Temperance                 137   \n",
       "5   Amherst County                    301 - Monroe                 159   \n",
       "..             ...                             ...                 ...   \n",
       "40               0                  8 - East Salem                   0   \n",
       "41               0            9 - South Side Hills                   0   \n",
       "42               0              10 - Hidden Valley                   0   \n",
       "43               0  Ab - Central Absentee Precinct                   0   \n",
       "44               0                     Provisional                   0   \n",
       "\n",
       "   Christian Renau Worth  All Others Total Votes Cast HOD_DIST  \\\n",
       "1                    114         2.0              280       24   \n",
       "2                     20         1.0              103       24   \n",
       "3                    261        13.0              671       24   \n",
       "4                     59         3.0              199       24   \n",
       "5                     66         5.0              230       24   \n",
       "..                   ...         ...              ...      ...   \n",
       "40                     0         0.0              334        8   \n",
       "41                     0         0.0            1,247        8   \n",
       "42                     0         0.0            1,367        8   \n",
       "43                     0         0.0              729        8   \n",
       "44                     0         0.0                5        8   \n",
       "\n",
       "          LOCALITY  S18HODREP  S18HODDEM  S18HODWRI COUNTYFP  \n",
       "1   Amherst County        164        114          2      009  \n",
       "2   Amherst County         82         20          1      009  \n",
       "3   Amherst County        397        261         13      009  \n",
       "4   Amherst County        137         59          3      009  \n",
       "5   Amherst County        159         66          5      009  \n",
       "..             ...        ...        ...        ...      ...  \n",
       "40      Salem City        198        136          0      775  \n",
       "41      Salem City        834        413          0      775  \n",
       "42      Salem City        830        536          1      775  \n",
       "43      Salem City        424        304          1      775  \n",
       "44      Salem City          4          1          0      775  \n",
       "\n",
       "[97 rows x 12 columns]"
      ]
     },
     "execution_count": 354,
     "metadata": {},
     "output_type": "execute_result"
    }
   ],
   "source": [
    "df.fillna(0)"
   ]
  },
  {
   "cell_type": "code",
   "execution_count": 388,
   "metadata": {},
   "outputs": [],
   "source": [
    "df_with_absentee_reallocated = df_no_absent_or_provisional.copy()\n",
    "for index, precinct_total_row_by_candidate in df_no_absent_or_provisional.iterrows():\n",
    "    #print(precinct_total_row_by_candidate)\n",
    "    county_fips = precinct_total_row_by_candidate['COUNTYFP']\n",
    "    county_total_row_by_candidate_no_absentee = groupby_county_tot_no_absentee.loc[county_fips]\n",
    "    county_absentee_and_provisional_by_candidate = groupby_absentee_and_prov_tot.loc[county_fips]\n",
    "    #print(precinct_total_row_by_candidate, county_total_row_by_candidate_no_absentee, county_absentee_and_provisional_by_candidate)\n",
    "    for candidate, votes in county_total_row_by_candidate_no_absentee.to_dict().items():\n",
    "        prec_tot = precinct_total_row_by_candidate[candidate]\n",
    "        #print('precinct total: ', prec_tot)\n",
    "        county_tot = votes\n",
    "        #print('county total: ', county_tot)\n",
    "        absentee_tot = county_absentee_and_provisional_by_candidate[candidate]\n",
    "        #print('absentee total: ', absentee_tot)\n",
    "        absentee_frac = get_absentee_frac(prec_tot, county_tot, absentee_tot)\n",
    "        #print('absentee votes to allocate to precinct: ', absentee_frac)\n",
    "        prec_with_absentee_allocation = prec_tot + absentee_frac\n",
    "        #print('new precinct total: ', prec_with_absentee_allocation)\n",
    "        df_with_absentee_reallocated.loc[index, candidate] = round(prec_with_absentee_allocation) #index is row, candidate is column"
   ]
  },
  {
   "cell_type": "code",
   "execution_count": 391,
   "metadata": {},
   "outputs": [
    {
     "data": {
      "text/plain": [
       "(70, 8)"
      ]
     },
     "execution_count": 391,
     "metadata": {},
     "output_type": "execute_result"
    }
   ],
   "source": [
    "df_with_absentee_reallocated.shape"
   ]
  },
  {
   "cell_type": "code",
   "execution_count": 390,
   "metadata": {},
   "outputs": [
    {
     "data": {
      "text/plain": [
       "(81, 8)"
      ]
     },
     "execution_count": 390,
     "metadata": {},
     "output_type": "execute_result"
    }
   ],
   "source": [
    "(df_with_absentee_reallocated.append(df[df.COUNTYFP == '009'])).shape"
   ]
  },
  {
   "cell_type": "code",
   "execution_count": 392,
   "metadata": {},
   "outputs": [
    {
     "data": {
      "text/plain": [
       "(79, 9)"
      ]
     },
     "execution_count": 392,
     "metadata": {},
     "output_type": "execute_result"
    }
   ],
   "source": [
    "final.shape"
   ]
  },
  {
   "cell_type": "code",
   "execution_count": 396,
   "metadata": {},
   "outputs": [],
   "source": [
    "groupby_county_final = final.groupby('COUNTYFP').sum()"
   ]
  },
  {
   "cell_type": "code",
   "execution_count": 397,
   "metadata": {},
   "outputs": [],
   "source": [
    "groupby_df_with_absentee_reallocated = df_with_absentee_reallocated.groupby('COUNTYFP').sum()"
   ]
  },
  {
   "cell_type": "code",
   "execution_count": 398,
   "metadata": {},
   "outputs": [],
   "source": [
    "df_absentee_reallocate_with_final = pd.merge(groupby_df_with_absentee_reallocated, groupby_county_final, on = 'COUNTYFP', how = 'inner', suffixes = ('_x', '_y'))"
   ]
  },
  {
   "cell_type": "code",
   "execution_count": 399,
   "metadata": {},
   "outputs": [],
   "source": [
    "def sum_checker(df, column_list):\n",
    "    list_max = 0\n",
    "    for i in column_list:\n",
    "        left_sum = df[i+'_x'].sum()\n",
    "        right_sum = df[i+'_y'].sum()\n",
    "        if (left_sum == right_sum):\n",
    "            print('column: ', i, ' have the same sums')\n",
    "        \n",
    "        else:\n",
    "            diff = abs(left_sum - right_sum)\n",
    "            percent = abs(left_sum - right_sum)/left_sum\n",
    "            print('column: ', i)\n",
    "            print('RDH sum is ', str(left_sum))\n",
    "            print('Partner sum is ', str(right_sum))\n",
    "            print('their (absolute) difference is ', str(diff))\n",
    "            print('As a percentage of DF1 this is ', str(round(percent*100,5)) + '%')\n",
    "            if (percent>list_max):\n",
    "                list_max = percent\n",
    "            print('')\n",
    "    print('The max difference (as a percent of the total of on DF column is: ', str(round(list_max,5)))"
   ]
  },
  {
   "cell_type": "code",
   "execution_count": 400,
   "metadata": {},
   "outputs": [
    {
     "name": "stdout",
     "output_type": "stream",
     "text": [
      "column:  S18HODREP\n",
      "RDH sum is  38641.0\n",
      "Partner sum is  26762\n",
      "their (absolute) difference is  11879.0\n",
      "As a percentage of DF1 this is  30.74196%\n",
      "\n",
      "column:  S18HODDEM\n",
      "RDH sum is  23596.0\n",
      "Partner sum is  16934\n",
      "their (absolute) difference is  6662.0\n",
      "As a percentage of DF1 this is  28.2336%\n",
      "\n",
      "column:  S18HODWRI\n",
      "RDH sum is  92.0\n",
      "Partner sum is  72\n",
      "their (absolute) difference is  20.0\n",
      "As a percentage of DF1 this is  21.73913%\n",
      "\n",
      "The max difference (as a percent of the total of on DF column is:  0.30742\n"
     ]
    }
   ],
   "source": [
    "sum_checker(df_absentee_reallocate_with_final, column_list)"
   ]
  },
  {
   "cell_type": "code",
   "execution_count": null,
   "metadata": {},
   "outputs": [],
   "source": []
  }
 ],
 "metadata": {
  "kernelspec": {
   "display_name": "Python 3",
   "language": "python",
   "name": "python3"
  },
  "language_info": {
   "codemirror_mode": {
    "name": "ipython",
    "version": 3
   },
   "file_extension": ".py",
   "mimetype": "text/x-python",
   "name": "python",
   "nbconvert_exporter": "python",
   "pygments_lexer": "ipython3",
   "version": "3.8.3"
  }
 },
 "nbformat": 4,
 "nbformat_minor": 4
}
